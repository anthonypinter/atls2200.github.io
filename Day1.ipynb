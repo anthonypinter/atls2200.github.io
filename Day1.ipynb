{
  "nbformat": 4,
  "nbformat_minor": 0,
  "metadata": {
    "colab": {
      "name": "Day1.ipynb",
      "provenance": [],
      "collapsed_sections": [],
      "authorship_tag": "ABX9TyOEtRhbtsXkBP6tucPpZ90W",
      "include_colab_link": true
    },
    "kernelspec": {
      "name": "python3",
      "display_name": "Python 3"
    },
    "language_info": {
      "name": "python"
    }
  },
  "cells": [
    {
      "cell_type": "markdown",
      "metadata": {
        "id": "view-in-github",
        "colab_type": "text"
      },
      "source": [
        "<a href=\"https://colab.research.google.com/github/anthonypinter/atls2200.github.io/blob/main/Day1.ipynb\" target=\"_parent\"><img src=\"https://colab.research.google.com/assets/colab-badge.svg\" alt=\"Open In Colab\"/></a>"
      ]
    },
    {
      "cell_type": "markdown",
      "source": [
        "import random library\n",
        "\n",
        "Define 3 lists total -- honorific list, fname list, and a lname list.\n",
        "\n",
        "honorific_list = [' ', 'John', 'Jane'...]\n",
        "\n",
        "generate some random numbers that aren't bigger than the length of a given list\n",
        "\n",
        "use those numbers to pick values from the list(s)\n",
        "\n",
        "honorific variable -> set with some value from the honorific list\n",
        "fname variable -> set with some value from the fname list\n",
        "lname variable -> set with some value from the lname list\n",
        "\n",
        "shove the variables together (concatenate)\n",
        "\n",
        "output (print)"
      ],
      "metadata": {
        "id": "raEqUdW4-1j4"
      }
    },
    {
      "cell_type": "code",
      "execution_count": 45,
      "metadata": {
        "colab": {
          "base_uri": "https://localhost:8080/"
        },
        "id": "boffafVM-yoL",
        "outputId": "f31d5879-51ca-4efd-ebae-14dd2dfc7fea"
      },
      "outputs": [
        {
          "output_type": "stream",
          "name": "stdout",
          "text": [
            "Esteemed   Morales\n"
          ]
        }
      ],
      "source": [
        "import random\n",
        "\n",
        "honorific_list = [' ', 'Amazing', 'Esteemed', 'Magnificient', \"Horrid\"]\n",
        "fname_list = [' ', 'Hank', 'Blake', 'Toni', ]\n",
        "lname_list = [' ', 'Smith', 'Rigatoni', 'Morales', 'Tom']\n",
        "\n",
        "random_number1 = random.randint(0,len(honorific_list)-1) \n",
        "random_number2 = random.randint(0,len(fname_list)-1) \n",
        "random_number3 = random.randint(0,len(lname_list)-1)\n",
        "\n",
        "honorific = honorific_list[random_number1]\n",
        "fname = fname_list[random_number2]\n",
        "lname = lname_list[random_number3]\n",
        "\n",
        "print(honorific + \" \" + fname + \" \" + lname)"
      ]
    }
  ]
}