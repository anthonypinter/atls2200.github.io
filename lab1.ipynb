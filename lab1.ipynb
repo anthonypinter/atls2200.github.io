{
  "nbformat": 4,
  "nbformat_minor": 0,
  "metadata": {
    "colab": {
      "name": "lab1.ipynb",
      "provenance": [],
      "collapsed_sections": [],
      "authorship_tag": "ABX9TyO17NaIYdi04WFgbqGcrQYQ",
      "include_colab_link": true
    },
    "kernelspec": {
      "name": "python3",
      "display_name": "Python 3"
    },
    "language_info": {
      "name": "python"
    }
  },
  "cells": [
    {
      "cell_type": "markdown",
      "metadata": {
        "id": "view-in-github",
        "colab_type": "text"
      },
      "source": [
        "<a href=\"https://colab.research.google.com/github/anthonypinter/atls2200.github.io/blob/main/lab1.ipynb\" target=\"_parent\"><img src=\"https://colab.research.google.com/assets/colab-badge.svg\" alt=\"Open In Colab\"/></a>"
      ]
    },
    {
      "cell_type": "code",
      "execution_count": null,
      "metadata": {
        "id": "ysFMKqY_zu20"
      },
      "outputs": [],
      "source": [
        "# *****************************************************************************\n",
        "#              ALL STUDENTS COMPLETE THESE SECTIONS\n",
        "# Title:            Lab 1: Python Basics\n",
        "# Files:            lab1.py\n",
        "# Semester:         Summer 2022\n",
        "#\n",
        "# Author:           (your name and email address)\n",
        "#\n",
        "# Description:\t\t This program contains the first Lab Assignment on Python Basics\n",
        "#\n",
        "# Written:       \t (date)\n",
        "#\n",
        "# Credits:          (list anyone or any resource that helped you write your program)\n",
        "# *****************************************************************************"
      ]
    },
    {
      "cell_type": "code",
      "source": [
        "# 1. Find and add the method to print the String \"Hello World!\" below this comment.\n"
      ],
      "metadata": {
        "id": "MT1RpRLFzzOq"
      },
      "execution_count": null,
      "outputs": []
    },
    {
      "cell_type": "code",
      "source": [
        "# 2. Below this comment, define variables with all the basic primitives (except long and double), and instantiate them with different values. \n",
        "#    Concatenate them into a string and print it to the console so it will output the following: \"H3110 w0r1d 2.0 true\".\n"
      ],
      "metadata": {
        "id": "SRUxg2lGz1kV"
      },
      "execution_count": null,
      "outputs": []
    },
    {
      "cell_type": "code",
      "source": [
        "# 3. Change the values of the 4 String variables in the code below, so it reaches the method to print \"Success!\" to the console.\n",
        "\n",
        "a = \"ATLAS\"\n",
        "b = \"ATLAS\"\n",
        "c = a\n",
        "d = c\n",
        "\n",
        "b1 = a == b\n",
        "b2 = d != b\n",
        "b3 = c != a \n",
        "\n",
        "if (b1 and b2 and b3):\n",
        "\tprint(\"Success!\")\n"
      ],
      "metadata": {
        "colab": {
          "base_uri": "https://localhost:8080/"
        },
        "id": "B7V_sMN5z_-a",
        "outputId": "a2588a9c-5e7b-4b75-e7ea-682b681b052e"
      },
      "execution_count": null,
      "outputs": [
        {
          "output_type": "stream",
          "name": "stdout",
          "text": [
            "True\n",
            "True\n",
            "True\n",
            "Success!\n"
          ]
        }
      ]
    },
    {
      "cell_type": "code",
      "source": [
        ""
      ],
      "metadata": {
        "id": "QBDDH6aL0AD0"
      },
      "execution_count": null,
      "outputs": []
    }
  ]
}